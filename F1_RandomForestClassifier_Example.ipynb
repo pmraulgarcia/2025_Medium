{
  "nbformat": 4,
  "nbformat_minor": 0,
  "metadata": {
    "colab": {
      "provenance": []
    },
    "kernelspec": {
      "name": "python3",
      "display_name": "Python 3"
    },
    "language_info": {
      "name": "python"
    }
  },
  "cells": [
    {
      "cell_type": "code",
      "execution_count": 2,
      "metadata": {
        "colab": {
          "base_uri": "https://localhost:8080/"
        },
        "id": "lrlR2scuG7u7",
        "outputId": "2adcfc35-aec2-4c7b-cbd2-30b846f4adee"
      },
      "outputs": [
        {
          "output_type": "stream",
          "name": "stdout",
          "text": [
            "<class 'pandas.core.frame.DataFrame'>\n",
            "Index: 29 entries, 1 to 57\n",
            "Data columns (total 10 columns):\n",
            " #   Column                   Non-Null Count  Dtype  \n",
            "---  ------                   --------------  -----  \n",
            " 0   driver_points            29 non-null     int64  \n",
            " 1   driver_points_last_race  29 non-null     float64\n",
            " 2   position                 29 non-null     int64  \n",
            " 3   position_last_race       29 non-null     float64\n",
            " 4   qualy_position           29 non-null     int64  \n",
            " 5   sprint_position          29 non-null     int64  \n",
            " 6   sprint_points            29 non-null     int64  \n",
            " 7   fastestLap               29 non-null     int64  \n",
            " 8   points                   29 non-null     int64  \n",
            " 9   driverRef                29 non-null     int64  \n",
            "dtypes: float64(2), int64(8)\n",
            "memory usage: 2.5 KB\n",
            "Model Accuracy: 1.0\n",
            "Predicted position for max_verstappen in 2025: 0\n",
            "Predicted Winner for 2025: hamilton\n"
          ]
        }
      ],
      "source": [
        "import pandas as pd\n",
        "from sklearn.model_selection import train_test_split\n",
        "from sklearn.ensemble import RandomForestClassifier\n",
        "from sklearn.metrics import accuracy_score\n",
        "\n",
        "# Load the Miami Grand Prix data\n",
        "f1_main_table_miami = pd.read_excel(\"f1_main_table_miami.xlsx\", sheet_name='miami')\n",
        "\n",
        "# Define drivers who will NOT participate in 2025\n",
        "drivers_not_in_2025 = ['peres', 'bottas', 'kevin_magnussen', 'latifi', 'mick_schumacher', 'zhou', 'de_vries', 'sargeant'] # Replace with actual driverRefs\n",
        "\n",
        "# Filter out the drivers not participating in 2025\n",
        "f1_main_table_miami = f1_main_table_miami[~f1_main_table_miami['driverRef'].isin(drivers_not_in_2025)]\n",
        "\n",
        "f1_main_table_miami['driver_points_last_race'] = f1_main_table_miami.groupby('driverRef')['driver_points'].shift(1)\n",
        "f1_main_table_miami['position_last_race'] = f1_main_table_miami.groupby('driverRef')['position'].shift(1)\n",
        "\n",
        "# Prepare the data\n",
        "features = ['driver_points', 'driver_points_last_race', 'position', 'position_last_race', 'qualy_position', 'sprint_position', 'sprint_points', 'fastestLap', 'points', 'driverRef']  # Add more relevant features\n",
        "target = 'position'\n",
        "\n",
        "# Before dropping NaNs, make a copy to preserve 'driverRef'\n",
        "X = f1_main_table_miami[features].copy()\n",
        "X.dropna(inplace=True)\n",
        "y = f1_main_table_miami.loc[X.index, target]\n",
        "\n",
        "from sklearn.preprocessing import LabelEncoder\n",
        "le = LabelEncoder()\n",
        "X['driverRef'] = le.fit_transform(X['driverRef'])\n",
        "X.info()\n",
        "# Split the data into training and testing sets\n",
        "X_train, X_test, y_train, y_test = train_test_split(X, y, test_size=0.2, random_state=42)\n",
        "\n",
        "# Choose and train a model RandomForestClassifier\n",
        "model = RandomForestClassifier(random_state=42)\n",
        "model.fit(X_train, y_train)\n",
        "\n",
        "# Make predictions\n",
        "y_pred = model.predict(X_test)\n",
        "\n",
        "# Evaluate the model\n",
        "accuracy = accuracy_score(y_test, y_pred)\n",
        "print(f\"Model Accuracy: {accuracy}\")\n",
        "\n",
        "# Predict the winner for 2025 (example)\n",
        "vDriver = 'max_verstappen'\n",
        "new_data_2025 = pd.DataFrame({'driver_points': [100], 'driver_points_last_race': [24], 'position': [2], 'position_last_race': [1], 'qualy_position': [1], 'sprint_position': [2], 'sprint_points':[3], 'fastestLap': [1], 'points': [25], 'driverRef': [le.transform([vDriver])]})\n",
        "\n",
        "# Prediction\n",
        "predicted_position = model.predict(new_data_2025)[0]  # Get the predicted position\n",
        "print(f\"Predicted position for {vDriver} in 2025: {predicted_position}\")\n",
        "\n",
        "# Find the driverRef associated with the predicted position\n",
        "predicted_driverRef = le.inverse_transform([X.loc[X['position'] == predicted_position, 'driverRef'].iloc[0]])[0]\n",
        "print(f\"Predicted Winner for 2025: {predicted_driverRef}\")"
      ]
    }
  ]
}